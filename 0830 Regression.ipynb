{
 "cells": [
  {
   "cell_type": "code",
   "execution_count": 1,
   "id": "4ca721e5",
   "metadata": {},
   "outputs": [],
   "source": [
    "# ML용 공통 코드\n",
    "\n",
    "# 파이썬\n",
    "# ≥3.5 필수\n",
    "import sys\n",
    "assert sys.version_info >= (3, 5)\n",
    "\n",
    "# 공통 모듈 임포트\n",
    "import numpy as np\n",
    "import pandas as pd\n",
    "import os\n",
    "\n",
    "# 깔끔한 그래프 출력을 위해 %matplotlib inline\n",
    "import matplotlib as mpl\n",
    "import matplotlib.pyplot as plt\n",
    "\n",
    "mpl.rc('axes', labelsize=14)\n",
    "mpl.rc('xtick', labelsize=12)\n",
    "mpl.rc('ytick', labelsize=12)\n",
    "\n",
    "\n",
    "# 그림을 저장할 위치\n",
    "PROJECT_ROOT_DIR = \".\"\n",
    "CHAPTER_ID = \"classification\"\n",
    "IMAGES_PATH = os.path.join(PROJECT_ROOT_DIR, \"images\", CHAPTER_ID)\n",
    "# 이미지를 저장할 디렉토리 생성\n",
    "os.makedirs(IMAGES_PATH, exist_ok=True)\n",
    "\n",
    "# 이미지 저장\n",
    "def save_fig(fig_id, tight_layout=True, fig_extension=\"png\", resolution=300):\n",
    "    path = os.path.join(IMAGES_PATH, fig_id + \".\" + fig_extension)\n",
    "    print(\"그림 저장:\", fig_id)\n",
    "    if tight_layout:\n",
    "        plt.tight_layout()\n",
    "    plt.savefig(path, format=fig_extension, dpi=resolution)\n",
    "\n",
    "from matplotlib import font_manager, rc\n",
    "import platform\n",
    "\n",
    "path = \"c:/Windows/Fonts/malgun.ttf\"\n",
    "if platform.system() == 'Darwin':\n",
    "    rc('font', family='AppleGothic')\n",
    "elif platform.system() == 'Windows':\n",
    "    font_name = font_manager.FontProperties(fname=path).get_name()\n",
    "    rc('font', family=font_name)\n",
    "    \n",
    "    \n",
    "mpl.rcParams['axes.unicode_minus'] = False\n",
    "# Jupyter Notebook의 출력을 소수점 이하 3자리로 제한\n",
    "%precision 3\n",
    "\n",
    "# 그래픽 출력을 좀 더 고급화하기 위한 라이브러리\n",
    "import seaborn as sns\n",
    "\n",
    "# 과학 기술 통계 라이브러리\n",
    "import scipy as sp\n",
    "from scipy import stats\n",
    "\n",
    "# 사이킷런 ≥0.20 필수\n",
    "# 0.20 이상 버전에서 데이터 변환을 위한 Transformer 클래스가 추가됨\n",
    "import sklearn\n",
    "assert sklearn.__version__ >= \"0.20\"\n",
    "\n",
    "# 노트북 실행 결과를 동일하게 유지하기 위해 시드 고정\n",
    "# 데이터를 분할할 때 동일한 분할을 만들어 냄\n",
    "np.random.seed(21)"
   ]
  },
  {
   "cell_type": "code",
   "execution_count": 4,
   "id": "7ea9d696",
   "metadata": {},
   "outputs": [],
   "source": [
    "# 데이터 준비\n",
    "\n",
    "data_url = 'http://lib.stat.cmu.edu/datasets/boston'\n",
    "row_df = pd.read_csv(data_url,sep = '\\s+', skiprows = 22, header = None)\n",
    "\n",
    "data = np.hstack([row_df.values[::2, :], row_df.values[1::2, :2]])\n",
    "target = row_df.values[1::2, 2]\n",
    "\n",
    "bostonDF = pd.DataFrame(data, columns = ['CRIM', 'ZN', 'INDUS', 'CHAS', 'NOX',\n",
    "                            'RM', 'AGE', 'DIS', 'RAD', 'TAX', 'PTRATIO', 'B', 'LSTAT'])\n",
    "bostonDF['PRICE'] = target"
   ]
  },
  {
   "cell_type": "markdown",
   "id": "54a349b4",
   "metadata": {},
   "source": [
    "## 다변량 회귀"
   ]
  },
  {
   "cell_type": "markdown",
   "id": "a56034ac",
   "metadata": {},
   "source": [
    "### 보스턴 주택 가격을 다변량 선형 회귀를 통해 예측하기"
   ]
  },
  {
   "cell_type": "code",
   "execution_count": 6,
   "id": "07ffc291",
   "metadata": {},
   "outputs": [],
   "source": [
    "# 데이터 가져오기\n",
    "\n",
    "y_target = bostonDF['PRICE']\n",
    "X_data = bostonDF.drop(['PRICE'], axis = 1, inplace = False)\n",
    "\n",
    "#print(y_target.head())\n",
    "#print(X_data.head())"
   ]
  },
  {
   "cell_type": "code",
   "execution_count": 15,
   "id": "0b5853c3",
   "metadata": {},
   "outputs": [],
   "source": [
    "# 훈련 데이터와 테스트 데이터 분리\n",
    "\n",
    "from sklearn.model_selection import train_test_split\n",
    "\n",
    "# 7:3 으로 데이터 분리\n",
    "X_train, X_test, y_train, y_test = train_test_split(X_data, y_target,\n",
    "                                                   test_size = 0.2, random_state = 21)\n",
    "\n",
    "#print(X_train.shape) # 제대로 분할됐는지 확인\n",
    "#print(X_test.shape)"
   ]
  },
  {
   "cell_type": "code",
   "execution_count": 16,
   "id": "9565d21e",
   "metadata": {},
   "outputs": [
    {
     "data": {
      "text/html": [
       "<style>#sk-container-id-2 {color: black;background-color: white;}#sk-container-id-2 pre{padding: 0;}#sk-container-id-2 div.sk-toggleable {background-color: white;}#sk-container-id-2 label.sk-toggleable__label {cursor: pointer;display: block;width: 100%;margin-bottom: 0;padding: 0.3em;box-sizing: border-box;text-align: center;}#sk-container-id-2 label.sk-toggleable__label-arrow:before {content: \"▸\";float: left;margin-right: 0.25em;color: #696969;}#sk-container-id-2 label.sk-toggleable__label-arrow:hover:before {color: black;}#sk-container-id-2 div.sk-estimator:hover label.sk-toggleable__label-arrow:before {color: black;}#sk-container-id-2 div.sk-toggleable__content {max-height: 0;max-width: 0;overflow: hidden;text-align: left;background-color: #f0f8ff;}#sk-container-id-2 div.sk-toggleable__content pre {margin: 0.2em;color: black;border-radius: 0.25em;background-color: #f0f8ff;}#sk-container-id-2 input.sk-toggleable__control:checked~div.sk-toggleable__content {max-height: 200px;max-width: 100%;overflow: auto;}#sk-container-id-2 input.sk-toggleable__control:checked~label.sk-toggleable__label-arrow:before {content: \"▾\";}#sk-container-id-2 div.sk-estimator input.sk-toggleable__control:checked~label.sk-toggleable__label {background-color: #d4ebff;}#sk-container-id-2 div.sk-label input.sk-toggleable__control:checked~label.sk-toggleable__label {background-color: #d4ebff;}#sk-container-id-2 input.sk-hidden--visually {border: 0;clip: rect(1px 1px 1px 1px);clip: rect(1px, 1px, 1px, 1px);height: 1px;margin: -1px;overflow: hidden;padding: 0;position: absolute;width: 1px;}#sk-container-id-2 div.sk-estimator {font-family: monospace;background-color: #f0f8ff;border: 1px dotted black;border-radius: 0.25em;box-sizing: border-box;margin-bottom: 0.5em;}#sk-container-id-2 div.sk-estimator:hover {background-color: #d4ebff;}#sk-container-id-2 div.sk-parallel-item::after {content: \"\";width: 100%;border-bottom: 1px solid gray;flex-grow: 1;}#sk-container-id-2 div.sk-label:hover label.sk-toggleable__label {background-color: #d4ebff;}#sk-container-id-2 div.sk-serial::before {content: \"\";position: absolute;border-left: 1px solid gray;box-sizing: border-box;top: 0;bottom: 0;left: 50%;z-index: 0;}#sk-container-id-2 div.sk-serial {display: flex;flex-direction: column;align-items: center;background-color: white;padding-right: 0.2em;padding-left: 0.2em;position: relative;}#sk-container-id-2 div.sk-item {position: relative;z-index: 1;}#sk-container-id-2 div.sk-parallel {display: flex;align-items: stretch;justify-content: center;background-color: white;position: relative;}#sk-container-id-2 div.sk-item::before, #sk-container-id-2 div.sk-parallel-item::before {content: \"\";position: absolute;border-left: 1px solid gray;box-sizing: border-box;top: 0;bottom: 0;left: 50%;z-index: -1;}#sk-container-id-2 div.sk-parallel-item {display: flex;flex-direction: column;z-index: 1;position: relative;background-color: white;}#sk-container-id-2 div.sk-parallel-item:first-child::after {align-self: flex-end;width: 50%;}#sk-container-id-2 div.sk-parallel-item:last-child::after {align-self: flex-start;width: 50%;}#sk-container-id-2 div.sk-parallel-item:only-child::after {width: 0;}#sk-container-id-2 div.sk-dashed-wrapped {border: 1px dashed gray;margin: 0 0.4em 0.5em 0.4em;box-sizing: border-box;padding-bottom: 0.4em;background-color: white;}#sk-container-id-2 div.sk-label label {font-family: monospace;font-weight: bold;display: inline-block;line-height: 1.2em;}#sk-container-id-2 div.sk-label-container {text-align: center;}#sk-container-id-2 div.sk-container {/* jupyter's `normalize.less` sets `[hidden] { display: none; }` but bootstrap.min.css set `[hidden] { display: none !important; }` so we also need the `!important` here to be able to override the default hidden behavior on the sphinx rendered scikit-learn.org. See: https://github.com/scikit-learn/scikit-learn/issues/21755 */display: inline-block !important;position: relative;}#sk-container-id-2 div.sk-text-repr-fallback {display: none;}</style><div id=\"sk-container-id-2\" class=\"sk-top-container\"><div class=\"sk-text-repr-fallback\"><pre>LinearRegression()</pre><b>In a Jupyter environment, please rerun this cell to show the HTML representation or trust the notebook. <br />On GitHub, the HTML representation is unable to render, please try loading this page with nbviewer.org.</b></div><div class=\"sk-container\" hidden><div class=\"sk-item\"><div class=\"sk-estimator sk-toggleable\"><input class=\"sk-toggleable__control sk-hidden--visually\" id=\"sk-estimator-id-2\" type=\"checkbox\" checked><label for=\"sk-estimator-id-2\" class=\"sk-toggleable__label sk-toggleable__label-arrow\">LinearRegression</label><div class=\"sk-toggleable__content\"><pre>LinearRegression()</pre></div></div></div></div></div>"
      ],
      "text/plain": [
       "LinearRegression()"
      ]
     },
     "execution_count": 16,
     "metadata": {},
     "output_type": "execute_result"
    }
   ],
   "source": [
    "# 회귀 모델을 만들고 훈련\n",
    "\n",
    "from sklearn.linear_model import LinearRegression\n",
    "\n",
    "lr = LinearRegression()\n",
    "lr.fit(X_train, y_train)"
   ]
  },
  {
   "cell_type": "code",
   "execution_count": 17,
   "id": "44a4d14b",
   "metadata": {},
   "outputs": [
    {
     "name": "stdout",
     "output_type": "stream",
     "text": [
      "MSE :  26.825400573939223\n",
      "RMSE :  5.179324335658004\n",
      "R2 score :  0.714936416139223\n"
     ]
    }
   ],
   "source": [
    "# 훈련된 모델 평가\n",
    "\n",
    "y_pred = lr.predict(X_test)\n",
    "\n",
    "# 훈련 평가 지표는 metrics 에 들어 있음\n",
    "from sklearn.metrics import mean_squared_error, r2_score\n",
    "\n",
    "mse = mean_squared_error(y_test, y_pred)\n",
    "r2 = r2_score(y_test, y_pred)\n",
    "# mse 는 제곱을 사용하기 때문에 실제 데이터 보다 스케일이 큰 경우가 많음\n",
    "# 그래서 mse 는 대신 제곱근을 적용해서 많이 사용함\n",
    "rmse = np.sqrt(mse)\n",
    "\n",
    "print('MSE : ', mse)\n",
    "print('RMSE : ', rmse)\n",
    "print('R2 score : ', r2)\n",
    "# 훈련 데이터를 7대3 에서 8대2 로 바꿨더니 평가 점수가 상승하는 결과를 보임"
   ]
  },
  {
   "cell_type": "code",
   "execution_count": 18,
   "id": "6b0115c6",
   "metadata": {},
   "outputs": [
    {
     "name": "stdout",
     "output_type": "stream",
     "text": [
      "절편 값 :  40.653176529790514\n",
      "기울기(회귀 계수) [-8.774e-02  4.878e-02  1.947e-02  3.063e+00 -1.848e+01  3.347e+00\n",
      "  3.220e-03 -1.426e+00  3.252e-01 -1.203e-02 -1.056e+00  1.077e-02\n",
      " -5.384e-01]\n"
     ]
    }
   ],
   "source": [
    "# 회귀 계수와 절편값 확인\n",
    "\n",
    "print('절편 값 : ', lr.intercept_)\n",
    "print('기울기(회귀 계수)', lr.coef_)\n",
    "# 다변량 회귀이기 때문에 회귀 계수가 리스트로 여러 개가 나옴"
   ]
  },
  {
   "cell_type": "markdown",
   "id": "52303640",
   "metadata": {},
   "source": [
    "### score.csv 파일의 데이터(iq 와 academy, game, tv 를 이용한 시간)을 가지고 score 를 예측하기"
   ]
  },
  {
   "cell_type": "code",
   "execution_count": 20,
   "id": "df2b95b3",
   "metadata": {},
   "outputs": [
    {
     "name": "stdout",
     "output_type": "stream",
     "text": [
      "<class 'pandas.core.frame.DataFrame'>\n",
      "RangeIndex: 10 entries, 0 to 9\n",
      "Data columns (total 6 columns):\n",
      " #   Column   Non-Null Count  Dtype \n",
      "---  ------   --------------  ----- \n",
      " 0   name     10 non-null     object\n",
      " 1   score    10 non-null     int64 \n",
      " 2   iq       10 non-null     int64 \n",
      " 3   academy  10 non-null     int64 \n",
      " 4   game     10 non-null     int64 \n",
      " 5   tv       10 non-null     int64 \n",
      "dtypes: int64(5), object(1)\n",
      "memory usage: 608.0+ bytes\n"
     ]
    },
    {
     "data": {
      "text/html": [
       "<div>\n",
       "<style scoped>\n",
       "    .dataframe tbody tr th:only-of-type {\n",
       "        vertical-align: middle;\n",
       "    }\n",
       "\n",
       "    .dataframe tbody tr th {\n",
       "        vertical-align: top;\n",
       "    }\n",
       "\n",
       "    .dataframe thead th {\n",
       "        text-align: right;\n",
       "    }\n",
       "</style>\n",
       "<table border=\"1\" class=\"dataframe\">\n",
       "  <thead>\n",
       "    <tr style=\"text-align: right;\">\n",
       "      <th></th>\n",
       "      <th>name</th>\n",
       "      <th>score</th>\n",
       "      <th>iq</th>\n",
       "      <th>academy</th>\n",
       "      <th>game</th>\n",
       "      <th>tv</th>\n",
       "    </tr>\n",
       "  </thead>\n",
       "  <tbody>\n",
       "    <tr>\n",
       "      <th>0</th>\n",
       "      <td>A</td>\n",
       "      <td>90</td>\n",
       "      <td>140</td>\n",
       "      <td>2</td>\n",
       "      <td>1</td>\n",
       "      <td>0</td>\n",
       "    </tr>\n",
       "    <tr>\n",
       "      <th>1</th>\n",
       "      <td>B</td>\n",
       "      <td>75</td>\n",
       "      <td>125</td>\n",
       "      <td>1</td>\n",
       "      <td>3</td>\n",
       "      <td>3</td>\n",
       "    </tr>\n",
       "    <tr>\n",
       "      <th>2</th>\n",
       "      <td>C</td>\n",
       "      <td>77</td>\n",
       "      <td>120</td>\n",
       "      <td>1</td>\n",
       "      <td>0</td>\n",
       "      <td>4</td>\n",
       "    </tr>\n",
       "    <tr>\n",
       "      <th>3</th>\n",
       "      <td>D</td>\n",
       "      <td>83</td>\n",
       "      <td>135</td>\n",
       "      <td>2</td>\n",
       "      <td>3</td>\n",
       "      <td>2</td>\n",
       "    </tr>\n",
       "    <tr>\n",
       "      <th>4</th>\n",
       "      <td>E</td>\n",
       "      <td>65</td>\n",
       "      <td>105</td>\n",
       "      <td>0</td>\n",
       "      <td>4</td>\n",
       "      <td>4</td>\n",
       "    </tr>\n",
       "  </tbody>\n",
       "</table>\n",
       "</div>"
      ],
      "text/plain": [
       "  name  score   iq  academy  game  tv\n",
       "0    A     90  140        2     1   0\n",
       "1    B     75  125        1     3   3\n",
       "2    C     77  120        1     0   4\n",
       "3    D     83  135        2     3   2\n",
       "4    E     65  105        0     4   4"
      ]
     },
     "execution_count": 20,
     "metadata": {},
     "output_type": "execute_result"
    }
   ],
   "source": [
    "# 데이터 가져오기\n",
    "df = pd.read_csv('./data/score.csv')\n",
    "df.info()\n",
    "df.head()"
   ]
  },
  {
   "cell_type": "code",
   "execution_count": 23,
   "id": "51f66b91",
   "metadata": {},
   "outputs": [
    {
     "name": "stdout",
     "output_type": "stream",
     "text": [
      "절편과 기울기 :  Intercept    23.299232\n",
      "iq            0.468422\n",
      "academy       0.717901\n",
      "game         -0.838955\n",
      "tv           -1.385408\n",
      "dtype: float64\n",
      "유의 확률(p-value) :  Intercept    0.117508\n",
      "iq           0.003376\n",
      "academy      0.534402\n",
      "game         0.131001\n",
      "tv           0.184269\n",
      "dtype: float64\n",
      "결정 계수 :  0.9608351062148871\n"
     ]
    }
   ],
   "source": [
    "# statsmodel 에서 가져오기\n",
    "import statsmodels.formula.api as sm\n",
    "\n",
    "result = sm.ols(formula = 'score ~ iq + academy + game + tv',\n",
    "               data = df).fit()\n",
    "print('절편과 기울기 : ', result.params)\n",
    "print('유의 확률(p-value) : ', result.pvalues)\n",
    "print('결정 계수 : ', result.rsquared)\n",
    "# 결정 계수가 0.96이라서 신뢰할만한 결과인것 같은데 pvalue 도 높음\n",
    "# 일반적으로 p-value가 0.05 이상이면 문제가 있다고 봄\n",
    "# academy 의 유의 확률이 0.53이면서 결정 계수는 0.96\n",
    "# 둘 다 높게 나왔으므로 다중 공선성 문제일 가능성이 높음"
   ]
  },
  {
   "cell_type": "code",
   "execution_count": 25,
   "id": "2f2b365a",
   "metadata": {},
   "outputs": [
    {
     "name": "stdout",
     "output_type": "stream",
     "text": [
      "81.89907841030418\n"
     ]
    }
   ],
   "source": [
    "# iq 가 130, academy 는 3개, 게임 2시간, tv 2시간 보는 학생 예측\n",
    "y = result.params.Intercept + 130*result.params.iq + 3 * result.params.academy + 2 * result.params.game + 2 * result.params.tv\n",
    "print(y) # 81.8990"
   ]
  },
  {
   "cell_type": "code",
   "execution_count": 31,
   "id": "516b45d7",
   "metadata": {},
   "outputs": [
    {
     "data": {
      "image/png": "[encoded data removed]",
      "text/plain": [
       "<Figure size 640x480 with 1 Axes>"
      ]
     },
     "metadata": {},
     "output_type": "display_data"
    }
   ],
   "source": [
    "# 예측 값과 실제 값 시각화\n",
    "\n",
    "# 결정 계수가 높으므로 오차가 거의 없음\n",
    "plt.figure()\n",
    "plt.plot(df['score'], label = '실제 점수')\n",
    "plt.plot(result.predict(), label = '예측 점수')\n",
    "plt.xticks(range(0, 10), df['name'])\n",
    "plt.legend(fontsize = 8)\n",
    "plt.show()\n"
   ]
  },
  {
   "cell_type": "code",
   "execution_count": 38,
   "id": "2f07d5f2",
   "metadata": {},
   "outputs": [
    {
     "name": "stdout",
     "output_type": "stream",
     "text": [
      "   VIF factor features\n",
      "0   31.162062       iq\n",
      "1   13.444494  academy\n",
      "2    3.054510     game\n",
      "3    7.783607       tv\n"
     ]
    }
   ],
   "source": [
    "# VIF(분산 팽창 요인) 출력\n",
    "\n",
    "# VIF와 관련 없는 요인은 drop\n",
    "X = df.drop(['score', 'name'], axis = 1)\n",
    "\n",
    "from statsmodels.stats.outliers_influence import variance_inflation_factor\n",
    "\n",
    "vif = pd.DataFrame()\n",
    "# score, name 을 제외한 4가지에 대해 VIF 계산\n",
    "# iq, academy, game, tv 순서\n",
    "vif['VIF factor'] = [variance_inflation_factor(X.values, i) for i in range(X.shape[1])]\n",
    "vif['features'] = X.columns\n",
    "print(vif)"
   ]
  },
  {
   "cell_type": "markdown",
   "id": "d523dfa0",
   "metadata": {},
   "source": [
    "### 보스턴 주택 가격 데이터에 Ridge 모델 적용"
   ]
  },
  {
   "cell_type": "code",
   "execution_count": 40,
   "id": "d1d1141c",
   "metadata": {},
   "outputs": [],
   "source": [
    "from sklearn.linear_model import Ridge\n",
    "\n",
    "# 데이터 생성\n",
    "y_target = bostonDF['PRICE']\n",
    "X_data = bostonDF.drop(['PRICE'], axis = 1, inplace = False)"
   ]
  },
  {
   "cell_type": "code",
   "execution_count": 44,
   "id": "1951bf47",
   "metadata": {},
   "outputs": [
    {
     "name": "stdout",
     "output_type": "stream",
     "text": [
      "alpha 0 일 때 folds의 평균 RMSE : 5.828658946215806\n",
      "alpha 0.1 일 때 folds의 평균 RMSE : 5.788486627032412\n",
      "alpha 0.5 일 때 folds의 평균 RMSE : 5.700420357493769\n",
      "alpha 1 일 때 folds의 평균 RMSE : 5.652570965613549\n",
      "alpha 10 일 때 folds의 평균 RMSE : 5.518166280868973\n",
      "alpha 100 일 때 folds의 평균 RMSE : 5.329589628472148\n"
     ]
    }
   ],
   "source": [
    "from sklearn.model_selection import cross_val_score\n",
    "\n",
    "# 적용할 규제 값 설정\n",
    "alphas = [0, 0.1, 0.5, 1, 10, 100]\n",
    "\n",
    "# Ridge 모델을 생성하고 교차 검증에 사용\n",
    "# 'PRICE' 와 나머지를 데이터로 사용하고 5 겹 교차 검증을 진행\n",
    "# 이후 결과를 가지고 RMSE 를 계산\n",
    "for alpha in alphas:\n",
    "    ridge = Ridge(alpha = alpha)\n",
    "    neg_mse_scores = cross_val_score(ridge, X_data, y_target,\n",
    "                            scoring = 'neg_mean_squared_error', cv = 5)\n",
    "    avg_rmse = np.mean(np.sqrt((-1) * neg_mse_scores))\n",
    "    print('alpha {0} 일 때 folds의 평균 RMSE : {1}'.format(alpha, avg_rmse))\n",
    "    \n",
    "# 규제 값이 커질수록 RMSE 가 작아짐(5.82 -> 5.32)\n",
    "# 규제 값이 커질수록 더 정확해지는 경향을 보임\n",
    "# 규제 값이 커질수록 불필요한 값(데이터)들을 제거해나감"
   ]
  },
  {
   "cell_type": "code",
   "execution_count": null,
   "id": "056b5dc7",
   "metadata": {},
   "outputs": [],
   "source": []
  },
  {
   "cell_type": "markdown",
   "id": "195d67cf",
   "metadata": {},
   "source": [
    "## 비선형 회귀"
   ]
  },
  {
   "cell_type": "markdown",
   "id": "561ea605",
   "metadata": {},
   "source": [
    "### KNN"
   ]
  },
  {
   "cell_type": "code",
   "execution_count": 45,
   "id": "310f94eb",
   "metadata": {},
   "outputs": [],
   "source": [
    "from sklearn.neighbors import KNeighborsRegressor\n",
    "\n",
    "# 이웃의 수는 3개로 설정\n",
    "# weights 를 통해 가중치를 설정하는데 거리를 이용해 가중치 설정\n",
    "# weights 에 uniform 을 설정하면 일반적인 평균을 계산\n",
    "k_regressor = KNeighborsRegressor(n_neighbors = 3,\n",
    "                                  weights = 'distance')"
   ]
  },
  {
   "cell_type": "code",
   "execution_count": 49,
   "id": "fb4cf373",
   "metadata": {},
   "outputs": [
    {
     "data": {
      "text/html": [
       "<style>#sk-container-id-4 {color: black;background-color: white;}#sk-container-id-4 pre{padding: 0;}#sk-container-id-4 div.sk-toggleable {background-color: white;}#sk-container-id-4 label.sk-toggleable__label {cursor: pointer;display: block;width: 100%;margin-bottom: 0;padding: 0.3em;box-sizing: border-box;text-align: center;}#sk-container-id-4 label.sk-toggleable__label-arrow:before {content: \"▸\";float: left;margin-right: 0.25em;color: #696969;}#sk-container-id-4 label.sk-toggleable__label-arrow:hover:before {color: black;}#sk-container-id-4 div.sk-estimator:hover label.sk-toggleable__label-arrow:before {color: black;}#sk-container-id-4 div.sk-toggleable__content {max-height: 0;max-width: 0;overflow: hidden;text-align: left;background-color: #f0f8ff;}#sk-container-id-4 div.sk-toggleable__content pre {margin: 0.2em;color: black;border-radius: 0.25em;background-color: #f0f8ff;}#sk-container-id-4 input.sk-toggleable__control:checked~div.sk-toggleable__content {max-height: 200px;max-width: 100%;overflow: auto;}#sk-container-id-4 input.sk-toggleable__control:checked~label.sk-toggleable__label-arrow:before {content: \"▾\";}#sk-container-id-4 div.sk-estimator input.sk-toggleable__control:checked~label.sk-toggleable__label {background-color: #d4ebff;}#sk-container-id-4 div.sk-label input.sk-toggleable__control:checked~label.sk-toggleable__label {background-color: #d4ebff;}#sk-container-id-4 input.sk-hidden--visually {border: 0;clip: rect(1px 1px 1px 1px);clip: rect(1px, 1px, 1px, 1px);height: 1px;margin: -1px;overflow: hidden;padding: 0;position: absolute;width: 1px;}#sk-container-id-4 div.sk-estimator {font-family: monospace;background-color: #f0f8ff;border: 1px dotted black;border-radius: 0.25em;box-sizing: border-box;margin-bottom: 0.5em;}#sk-container-id-4 div.sk-estimator:hover {background-color: #d4ebff;}#sk-container-id-4 div.sk-parallel-item::after {content: \"\";width: 100%;border-bottom: 1px solid gray;flex-grow: 1;}#sk-container-id-4 div.sk-label:hover label.sk-toggleable__label {background-color: #d4ebff;}#sk-container-id-4 div.sk-serial::before {content: \"\";position: absolute;border-left: 1px solid gray;box-sizing: border-box;top: 0;bottom: 0;left: 50%;z-index: 0;}#sk-container-id-4 div.sk-serial {display: flex;flex-direction: column;align-items: center;background-color: white;padding-right: 0.2em;padding-left: 0.2em;position: relative;}#sk-container-id-4 div.sk-item {position: relative;z-index: 1;}#sk-container-id-4 div.sk-parallel {display: flex;align-items: stretch;justify-content: center;background-color: white;position: relative;}#sk-container-id-4 div.sk-item::before, #sk-container-id-4 div.sk-parallel-item::before {content: \"\";position: absolute;border-left: 1px solid gray;box-sizing: border-box;top: 0;bottom: 0;left: 50%;z-index: -1;}#sk-container-id-4 div.sk-parallel-item {display: flex;flex-direction: column;z-index: 1;position: relative;background-color: white;}#sk-container-id-4 div.sk-parallel-item:first-child::after {align-self: flex-end;width: 50%;}#sk-container-id-4 div.sk-parallel-item:last-child::after {align-self: flex-start;width: 50%;}#sk-container-id-4 div.sk-parallel-item:only-child::after {width: 0;}#sk-container-id-4 div.sk-dashed-wrapped {border: 1px dashed gray;margin: 0 0.4em 0.5em 0.4em;box-sizing: border-box;padding-bottom: 0.4em;background-color: white;}#sk-container-id-4 div.sk-label label {font-family: monospace;font-weight: bold;display: inline-block;line-height: 1.2em;}#sk-container-id-4 div.sk-label-container {text-align: center;}#sk-container-id-4 div.sk-container {/* jupyter's `normalize.less` sets `[hidden] { display: none; }` but bootstrap.min.css set `[hidden] { display: none !important; }` so we also need the `!important` here to be able to override the default hidden behavior on the sphinx rendered scikit-learn.org. See: https://github.com/scikit-learn/scikit-learn/issues/21755 */display: inline-block !important;position: relative;}#sk-container-id-4 div.sk-text-repr-fallback {display: none;}</style><div id=\"sk-container-id-4\" class=\"sk-top-container\"><div class=\"sk-text-repr-fallback\"><pre>KNeighborsRegressor(n_neighbors=3, weights=&#x27;distance&#x27;)</pre><b>In a Jupyter environment, please rerun this cell to show the HTML representation or trust the notebook. <br />On GitHub, the HTML representation is unable to render, please try loading this page with nbviewer.org.</b></div><div class=\"sk-container\" hidden><div class=\"sk-item\"><div class=\"sk-estimator sk-toggleable\"><input class=\"sk-toggleable__control sk-hidden--visually\" id=\"sk-estimator-id-4\" type=\"checkbox\" checked><label for=\"sk-estimator-id-4\" class=\"sk-toggleable__label sk-toggleable__label-arrow\">KNeighborsRegressor</label><div class=\"sk-toggleable__content\"><pre>KNeighborsRegressor(n_neighbors=3, weights=&#x27;distance&#x27;)</pre></div></div></div></div></div>"
      ],
      "text/plain": [
       "KNeighborsRegressor(n_neighbors=3, weights='distance')"
      ]
     },
     "execution_count": 49,
     "metadata": {},
     "output_type": "execute_result"
    }
   ],
   "source": [
    "# 데이터 생성\n",
    "X_train = [\n",
    "    [1, 3, 2],\n",
    "    [5, 2, 7],\n",
    "    [9, 0, 3],\n",
    "    [4, 6, 2]\n",
    "]\n",
    "y_train = [2, 5, 4, 4]\n",
    "\n",
    "# 훈련\n",
    "k_regressor.fit(X_train, y_train)"
   ]
  },
  {
   "cell_type": "code",
   "execution_count": 52,
   "id": "20cd4d53",
   "metadata": {},
   "outputs": [
    {
     "name": "stdout",
     "output_type": "stream",
     "text": [
      "[3.234 3.797 3.944]\n"
     ]
    }
   ],
   "source": [
    "# 테스트 데이터 생성 및 예측\n",
    "\n",
    "X_test = [\n",
    "    [2, 0, 1],\n",
    "    [4, 6, 3],\n",
    "    [5, 6, 7]\n",
    "]\n",
    "\n",
    "pred = k_regressor.predict(X_test)\n",
    "print(pred)\n",
    "# [3.234 3.797 3.944]\n",
    "\n",
    "# 이전과 달리 회귀 함수가 나오지 않기 때문에 비선형 회귀라고 함"
   ]
  },
  {
   "cell_type": "markdown",
   "id": "c5dc9bf1",
   "metadata": {},
   "source": [
    "### Decision Tree 를 이용한 회귀 및 시각화"
   ]
  },
  {
   "cell_type": "code",
   "execution_count": 53,
   "id": "6d8c059e",
   "metadata": {},
   "outputs": [],
   "source": [
    "# 샘플 데이터 생성\n",
    "\n",
    "m = 200\n",
    "X = np.random.rand(m, 1)\n",
    "y = (X - 0.5) ** 2\n",
    "# 데이터에 노이즈(random) 더하기\n",
    "y += np.random.randn(m, 1) / 10"
   ]
  },
  {
   "cell_type": "code",
   "execution_count": 54,
   "id": "712e5f1b",
   "metadata": {},
   "outputs": [
    {
     "data": {
      "text/html": [
       "<style>#sk-container-id-5 {color: black;background-color: white;}#sk-container-id-5 pre{padding: 0;}#sk-container-id-5 div.sk-toggleable {background-color: white;}#sk-container-id-5 label.sk-toggleable__label {cursor: pointer;display: block;width: 100%;margin-bottom: 0;padding: 0.3em;box-sizing: border-box;text-align: center;}#sk-container-id-5 label.sk-toggleable__label-arrow:before {content: \"▸\";float: left;margin-right: 0.25em;color: #696969;}#sk-container-id-5 label.sk-toggleable__label-arrow:hover:before {color: black;}#sk-container-id-5 div.sk-estimator:hover label.sk-toggleable__label-arrow:before {color: black;}#sk-container-id-5 div.sk-toggleable__content {max-height: 0;max-width: 0;overflow: hidden;text-align: left;background-color: #f0f8ff;}#sk-container-id-5 div.sk-toggleable__content pre {margin: 0.2em;color: black;border-radius: 0.25em;background-color: #f0f8ff;}#sk-container-id-5 input.sk-toggleable__control:checked~div.sk-toggleable__content {max-height: 200px;max-width: 100%;overflow: auto;}#sk-container-id-5 input.sk-toggleable__control:checked~label.sk-toggleable__label-arrow:before {content: \"▾\";}#sk-container-id-5 div.sk-estimator input.sk-toggleable__control:checked~label.sk-toggleable__label {background-color: #d4ebff;}#sk-container-id-5 div.sk-label input.sk-toggleable__control:checked~label.sk-toggleable__label {background-color: #d4ebff;}#sk-container-id-5 input.sk-hidden--visually {border: 0;clip: rect(1px 1px 1px 1px);clip: rect(1px, 1px, 1px, 1px);height: 1px;margin: -1px;overflow: hidden;padding: 0;position: absolute;width: 1px;}#sk-container-id-5 div.sk-estimator {font-family: monospace;background-color: #f0f8ff;border: 1px dotted black;border-radius: 0.25em;box-sizing: border-box;margin-bottom: 0.5em;}#sk-container-id-5 div.sk-estimator:hover {background-color: #d4ebff;}#sk-container-id-5 div.sk-parallel-item::after {content: \"\";width: 100%;border-bottom: 1px solid gray;flex-grow: 1;}#sk-container-id-5 div.sk-label:hover label.sk-toggleable__label {background-color: #d4ebff;}#sk-container-id-5 div.sk-serial::before {content: \"\";position: absolute;border-left: 1px solid gray;box-sizing: border-box;top: 0;bottom: 0;left: 50%;z-index: 0;}#sk-container-id-5 div.sk-serial {display: flex;flex-direction: column;align-items: center;background-color: white;padding-right: 0.2em;padding-left: 0.2em;position: relative;}#sk-container-id-5 div.sk-item {position: relative;z-index: 1;}#sk-container-id-5 div.sk-parallel {display: flex;align-items: stretch;justify-content: center;background-color: white;position: relative;}#sk-container-id-5 div.sk-item::before, #sk-container-id-5 div.sk-parallel-item::before {content: \"\";position: absolute;border-left: 1px solid gray;box-sizing: border-box;top: 0;bottom: 0;left: 50%;z-index: -1;}#sk-container-id-5 div.sk-parallel-item {display: flex;flex-direction: column;z-index: 1;position: relative;background-color: white;}#sk-container-id-5 div.sk-parallel-item:first-child::after {align-self: flex-end;width: 50%;}#sk-container-id-5 div.sk-parallel-item:last-child::after {align-self: flex-start;width: 50%;}#sk-container-id-5 div.sk-parallel-item:only-child::after {width: 0;}#sk-container-id-5 div.sk-dashed-wrapped {border: 1px dashed gray;margin: 0 0.4em 0.5em 0.4em;box-sizing: border-box;padding-bottom: 0.4em;background-color: white;}#sk-container-id-5 div.sk-label label {font-family: monospace;font-weight: bold;display: inline-block;line-height: 1.2em;}#sk-container-id-5 div.sk-label-container {text-align: center;}#sk-container-id-5 div.sk-container {/* jupyter's `normalize.less` sets `[hidden] { display: none; }` but bootstrap.min.css set `[hidden] { display: none !important; }` so we also need the `!important` here to be able to override the default hidden behavior on the sphinx rendered scikit-learn.org. See: https://github.com/scikit-learn/scikit-learn/issues/21755 */display: inline-block !important;position: relative;}#sk-container-id-5 div.sk-text-repr-fallback {display: none;}</style><div id=\"sk-container-id-5\" class=\"sk-top-container\"><div class=\"sk-text-repr-fallback\"><pre>DecisionTreeRegressor(max_depth=2, random_state=21)</pre><b>In a Jupyter environment, please rerun this cell to show the HTML representation or trust the notebook. <br />On GitHub, the HTML representation is unable to render, please try loading this page with nbviewer.org.</b></div><div class=\"sk-container\" hidden><div class=\"sk-item\"><div class=\"sk-estimator sk-toggleable\"><input class=\"sk-toggleable__control sk-hidden--visually\" id=\"sk-estimator-id-5\" type=\"checkbox\" checked><label for=\"sk-estimator-id-5\" class=\"sk-toggleable__label sk-toggleable__label-arrow\">DecisionTreeRegressor</label><div class=\"sk-toggleable__content\"><pre>DecisionTreeRegressor(max_depth=2, random_state=21)</pre></div></div></div></div></div>"
      ],
      "text/plain": [
       "DecisionTreeRegressor(max_depth=2, random_state=21)"
      ]
     },
     "execution_count": 54,
     "metadata": {},
     "output_type": "execute_result"
    }
   ],
   "source": [
    "from sklearn.tree import DecisionTreeRegressor\n",
    "\n",
    "# 모델 생성하고 훈련\n",
    "tree_reg = DecisionTreeRegressor(max_depth = 2, random_state = 21)\n",
    "tree_reg.fit(X, y)"
   ]
  },
  {
   "cell_type": "code",
   "execution_count": 57,
   "id": "c5018214",
   "metadata": {},
   "outputs": [
    {
     "data": {
      "image/svg+xml": [
       "<?xml version=\"1.0\" encoding=\"UTF-8\" standalone=\"no\"?>\n",
       "<!DOCTYPE svg PUBLIC \"-//W3C//DTD SVG 1.1//EN\"\n",
       " \"http://www.w3.org/Graphics/SVG/1.1/DTD/svg11.dtd\">\n",
       "<!-- Generated by graphviz version 8.1.0 (20230707.0739)\n",
       " -->\n",
       "<!-- Title: Tree Pages: 1 -->\n",
       "<svg width=\"690pt\" height=\"286pt\"\n",
       " viewBox=\"0.00 0.00 689.50 285.50\" xmlns=\"http://www.w3.org/2000/svg\" xmlns:xlink=\"http://www.w3.org/1999/xlink\">\n",
       "<g id=\"graph0\" class=\"graph\" transform=\"scale(1 1) rotate(0) translate(4 281.5)\">\n",
       "<title>Tree</title>\n",
       "<polygon fill=\"white\" stroke=\"none\" points=\"-4,4 -4,-281.5 685.5,-281.5 685.5,4 -4,4\"/>\n",
       "<!-- 0 -->\n",
       "<g id=\"node1\" class=\"node\">\n",
       "<title>0</title>\n",
       "<path fill=\"#f9e1d0\" stroke=\"black\" d=\"M404.5,-277.5C404.5,-277.5 270,-277.5 270,-277.5 264,-277.5 258,-271.5 258,-265.5 258,-265.5 258,-215.5 258,-215.5 258,-209.5 264,-203.5 270,-203.5 270,-203.5 404.5,-203.5 404.5,-203.5 410.5,-203.5 416.5,-209.5 416.5,-215.5 416.5,-215.5 416.5,-265.5 416.5,-265.5 416.5,-271.5 410.5,-277.5 404.5,-277.5\"/>\n",
       "<text text-anchor=\"middle\" x=\"337.25\" y=\"-260.2\" font-family=\"Helvetica,sans-Serif\" font-size=\"14.00\">X &lt;= 0.864</text>\n",
       "<text text-anchor=\"middle\" x=\"337.25\" y=\"-243.7\" font-family=\"Helvetica,sans-Serif\" font-size=\"14.00\">squared_error = 0.015</text>\n",
       "<text text-anchor=\"middle\" x=\"337.25\" y=\"-227.2\" font-family=\"Helvetica,sans-Serif\" font-size=\"14.00\">samples = 200</text>\n",
       "<text text-anchor=\"middle\" x=\"337.25\" y=\"-210.7\" font-family=\"Helvetica,sans-Serif\" font-size=\"14.00\">value = 0.079</text>\n",
       "</g>\n",
       "<!-- 1 -->\n",
       "<g id=\"node2\" class=\"node\">\n",
       "<title>1</title>\n",
       "<path fill=\"#fbece2\" stroke=\"black\" d=\"M316.5,-167.5C316.5,-167.5 182,-167.5 182,-167.5 176,-167.5 170,-161.5 170,-155.5 170,-155.5 170,-105.5 170,-105.5 170,-99.5 176,-93.5 182,-93.5 182,-93.5 316.5,-93.5 316.5,-93.5 322.5,-93.5 328.5,-99.5 328.5,-105.5 328.5,-105.5 328.5,-155.5 328.5,-155.5 328.5,-161.5 322.5,-167.5 316.5,-167.5\"/>\n",
       "<text text-anchor=\"middle\" x=\"249.25\" y=\"-150.2\" font-family=\"Helvetica,sans-Serif\" font-size=\"14.00\">X &lt;= 0.269</text>\n",
       "<text text-anchor=\"middle\" x=\"249.25\" y=\"-133.7\" font-family=\"Helvetica,sans-Serif\" font-size=\"14.00\">squared_error = 0.013</text>\n",
       "<text text-anchor=\"middle\" x=\"249.25\" y=\"-117.2\" font-family=\"Helvetica,sans-Serif\" font-size=\"14.00\">samples = 176</text>\n",
       "<text text-anchor=\"middle\" x=\"249.25\" y=\"-100.7\" font-family=\"Helvetica,sans-Serif\" font-size=\"14.00\">value = 0.06</text>\n",
       "</g>\n",
       "<!-- 0&#45;&gt;1 -->\n",
       "<g id=\"edge1\" class=\"edge\">\n",
       "<title>0&#45;&gt;1</title>\n",
       "<path fill=\"none\" stroke=\"black\" d=\"M307.7,-203.24C300.66,-194.6 293.07,-185.28 285.76,-176.31\"/>\n",
       "<polygon fill=\"black\" stroke=\"black\" points=\"287.9,-174.39 278.87,-168.85 282.47,-178.81 287.9,-174.39\"/>\n",
       "<text text-anchor=\"middle\" x=\"276.33\" y=\"-187.67\" font-family=\"Helvetica,sans-Serif\" font-size=\"14.00\">True</text>\n",
       "</g>\n",
       "<!-- 4 -->\n",
       "<g id=\"node5\" class=\"node\">\n",
       "<title>4</title>\n",
       "<path fill=\"#e89051\" stroke=\"black\" d=\"M493.5,-167.5C493.5,-167.5 359,-167.5 359,-167.5 353,-167.5 347,-161.5 347,-155.5 347,-155.5 347,-105.5 347,-105.5 347,-99.5 353,-93.5 359,-93.5 359,-93.5 493.5,-93.5 493.5,-93.5 499.5,-93.5 505.5,-99.5 505.5,-105.5 505.5,-105.5 505.5,-155.5 505.5,-155.5 505.5,-161.5 499.5,-167.5 493.5,-167.5\"/>\n",
       "<text text-anchor=\"middle\" x=\"426.25\" y=\"-150.2\" font-family=\"Helvetica,sans-Serif\" font-size=\"14.00\">X &lt;= 0.915</text>\n",
       "<text text-anchor=\"middle\" x=\"426.25\" y=\"-133.7\" font-family=\"Helvetica,sans-Serif\" font-size=\"14.00\">squared_error = 0.006</text>\n",
       "<text text-anchor=\"middle\" x=\"426.25\" y=\"-117.2\" font-family=\"Helvetica,sans-Serif\" font-size=\"14.00\">samples = 24</text>\n",
       "<text text-anchor=\"middle\" x=\"426.25\" y=\"-100.7\" font-family=\"Helvetica,sans-Serif\" font-size=\"14.00\">value = 0.219</text>\n",
       "</g>\n",
       "<!-- 0&#45;&gt;4 -->\n",
       "<g id=\"edge4\" class=\"edge\">\n",
       "<title>0&#45;&gt;4</title>\n",
       "<path fill=\"none\" stroke=\"black\" d=\"M367.13,-203.24C374.25,-194.6 381.93,-185.28 389.32,-176.31\"/>\n",
       "<polygon fill=\"black\" stroke=\"black\" points=\"392.64,-178.79 396.29,-168.85 387.23,-174.34 392.64,-178.79\"/>\n",
       "<text text-anchor=\"middle\" x=\"398.69\" y=\"-187.69\" font-family=\"Helvetica,sans-Serif\" font-size=\"14.00\">False</text>\n",
       "</g>\n",
       "<!-- 2 -->\n",
       "<g id=\"node3\" class=\"node\">\n",
       "<title>2</title>\n",
       "<path fill=\"#f1bc96\" stroke=\"black\" d=\"M146.5,-57.5C146.5,-57.5 12,-57.5 12,-57.5 6,-57.5 0,-51.5 0,-45.5 0,-45.5 0,-12 0,-12 0,-6 6,0 12,0 12,0 146.5,0 146.5,0 152.5,0 158.5,-6 158.5,-12 158.5,-12 158.5,-45.5 158.5,-45.5 158.5,-51.5 152.5,-57.5 146.5,-57.5\"/>\n",
       "<text text-anchor=\"middle\" x=\"79.25\" y=\"-40.2\" font-family=\"Helvetica,sans-Serif\" font-size=\"14.00\">squared_error = 0.012</text>\n",
       "<text text-anchor=\"middle\" x=\"79.25\" y=\"-23.7\" font-family=\"Helvetica,sans-Serif\" font-size=\"14.00\">samples = 49</text>\n",
       "<text text-anchor=\"middle\" x=\"79.25\" y=\"-7.2\" font-family=\"Helvetica,sans-Serif\" font-size=\"14.00\">value = 0.143</text>\n",
       "</g>\n",
       "<!-- 1&#45;&gt;2 -->\n",
       "<g id=\"edge2\" class=\"edge\">\n",
       "<title>1&#45;&gt;2</title>\n",
       "<path fill=\"none\" stroke=\"black\" d=\"M187.4,-93.21C170.81,-83.47 152.95,-72.99 136.62,-63.41\"/>\n",
       "<polygon fill=\"black\" stroke=\"black\" points=\"138.6,-59.93 128.2,-57.89 135.05,-65.96 138.6,-59.93\"/>\n",
       "</g>\n",
       "<!-- 3 -->\n",
       "<g id=\"node4\" class=\"node\">\n",
       "<title>3</title>\n",
       "<path fill=\"#ffffff\" stroke=\"black\" d=\"M314.38,-57.5C314.38,-57.5 188.12,-57.5 188.12,-57.5 182.12,-57.5 176.12,-51.5 176.12,-45.5 176.12,-45.5 176.12,-12 176.12,-12 176.12,-6 182.12,0 188.12,0 188.12,0 314.38,0 314.38,0 320.38,0 326.38,-6 326.38,-12 326.38,-12 326.38,-45.5 326.38,-45.5 326.38,-51.5 320.38,-57.5 314.38,-57.5\"/>\n",
       "<text text-anchor=\"middle\" x=\"251.25\" y=\"-40.2\" font-family=\"Helvetica,sans-Serif\" font-size=\"14.00\">squared_error = 0.01</text>\n",
       "<text text-anchor=\"middle\" x=\"251.25\" y=\"-23.7\" font-family=\"Helvetica,sans-Serif\" font-size=\"14.00\">samples = 127</text>\n",
       "<text text-anchor=\"middle\" x=\"251.25\" y=\"-7.2\" font-family=\"Helvetica,sans-Serif\" font-size=\"14.00\">value = 0.028</text>\n",
       "</g>\n",
       "<!-- 1&#45;&gt;3 -->\n",
       "<g id=\"edge3\" class=\"edge\">\n",
       "<title>1&#45;&gt;3</title>\n",
       "<path fill=\"none\" stroke=\"black\" d=\"M249.98,-93.21C250.14,-85.16 250.31,-76.61 250.47,-68.48\"/>\n",
       "<polygon fill=\"black\" stroke=\"black\" points=\"253.99,-68.8 250.69,-58.73 246.99,-68.66 253.99,-68.8\"/>\n",
       "</g>\n",
       "<!-- 5 -->\n",
       "<g id=\"node6\" class=\"node\">\n",
       "<title>5</title>\n",
       "<path fill=\"#eda572\" stroke=\"black\" d=\"M492.5,-57.5C492.5,-57.5 358,-57.5 358,-57.5 352,-57.5 346,-51.5 346,-45.5 346,-45.5 346,-12 346,-12 346,-6 352,0 358,0 358,0 492.5,0 492.5,0 498.5,0 504.5,-6 504.5,-12 504.5,-12 504.5,-45.5 504.5,-45.5 504.5,-51.5 498.5,-57.5 492.5,-57.5\"/>\n",
       "<text text-anchor=\"middle\" x=\"425.25\" y=\"-40.2\" font-family=\"Helvetica,sans-Serif\" font-size=\"14.00\">squared_error = 0.005</text>\n",
       "<text text-anchor=\"middle\" x=\"425.25\" y=\"-23.7\" font-family=\"Helvetica,sans-Serif\" font-size=\"14.00\">samples = 10</text>\n",
       "<text text-anchor=\"middle\" x=\"425.25\" y=\"-7.2\" font-family=\"Helvetica,sans-Serif\" font-size=\"14.00\">value = 0.182</text>\n",
       "</g>\n",
       "<!-- 4&#45;&gt;5 -->\n",
       "<g id=\"edge5\" class=\"edge\">\n",
       "<title>4&#45;&gt;5</title>\n",
       "<path fill=\"none\" stroke=\"black\" d=\"M425.89,-93.21C425.81,-85.16 425.72,-76.61 425.64,-68.48\"/>\n",
       "<polygon fill=\"black\" stroke=\"black\" points=\"429.13,-68.69 425.53,-58.73 422.13,-68.76 429.13,-68.69\"/>\n",
       "</g>\n",
       "<!-- 6 -->\n",
       "<g id=\"node7\" class=\"node\">\n",
       "<title>6</title>\n",
       "<path fill=\"#e58139\" stroke=\"black\" d=\"M669.5,-57.5C669.5,-57.5 535,-57.5 535,-57.5 529,-57.5 523,-51.5 523,-45.5 523,-45.5 523,-12 523,-12 523,-6 529,0 535,0 535,0 669.5,0 669.5,0 675.5,0 681.5,-6 681.5,-12 681.5,-12 681.5,-45.5 681.5,-45.5 681.5,-51.5 675.5,-57.5 669.5,-57.5\"/>\n",
       "<text text-anchor=\"middle\" x=\"602.25\" y=\"-40.2\" font-family=\"Helvetica,sans-Serif\" font-size=\"14.00\">squared_error = 0.005</text>\n",
       "<text text-anchor=\"middle\" x=\"602.25\" y=\"-23.7\" font-family=\"Helvetica,sans-Serif\" font-size=\"14.00\">samples = 14</text>\n",
       "<text text-anchor=\"middle\" x=\"602.25\" y=\"-7.2\" font-family=\"Helvetica,sans-Serif\" font-size=\"14.00\">value = 0.245</text>\n",
       "</g>\n",
       "<!-- 4&#45;&gt;6 -->\n",
       "<g id=\"edge6\" class=\"edge\">\n",
       "<title>4&#45;&gt;6</title>\n",
       "<path fill=\"none\" stroke=\"black\" d=\"M490.29,-93.21C507.62,-83.38 526.29,-72.8 543.33,-63.14\"/>\n",
       "<polygon fill=\"black\" stroke=\"black\" points=\"544.63,-65.86 551.61,-57.89 541.18,-59.77 544.63,-65.86\"/>\n",
       "</g>\n",
       "</g>\n",
       "</svg>\n"
      ],
      "text/plain": [
       "<graphviz.sources.Source at 0x15efc1be0b0>"
      ]
     },
     "execution_count": 57,
     "metadata": {},
     "output_type": "execute_result"
    }
   ],
   "source": [
    "# 결정 트리 시각화\n",
    "from graphviz import Source\n",
    "from sklearn.tree import export_graphviz\n",
    "\n",
    "# 트리 시각화에 사용할 파일 생성\n",
    "export_graphviz(\n",
    "    tree_reg,\n",
    "    out_file = 'decision_tree.dot',\n",
    "    feature_names = ['X'],\n",
    "    class_names= 'y',\n",
    "    rounded = True,\n",
    "    filled = True\n",
    ")\n",
    "\n",
    "# 화면에 출력\n",
    "with open('decision_tree.dot') as f:\n",
    "    tree_graph = f.read()\n",
    "\n",
    "src = Source(tree_graph)\n",
    "src\n",
    "# squared_error 는 MSE"
   ]
  },
  {
   "cell_type": "code",
   "execution_count": 61,
   "id": "8f279351",
   "metadata": {
    "scrolled": true
   },
   "outputs": [],
   "source": [
    "# max_depth 를 조절한 결과 - 2 > 4\n",
    "\n",
    "tree_reg = DecisionTreeRegressor(max_depth = 4, random_state = 21)\n",
    "tree_reg.fit(X, y)\n",
    "\n",
    "export_graphviz(\n",
    "    tree_reg,\n",
    "    out_file = 'decision_tree.dot',\n",
    "    feature_names = ['X'],\n",
    "    class_names= 'y',\n",
    "    rounded = True,\n",
    "    filled = True\n",
    ")\n",
    "\n",
    "\n",
    "with open('decision_tree.dot') as f:\n",
    "    tree_graph = f.read()\n",
    "\n",
    "src = Source(tree_graph)\n",
    "#src\n",
    "# 리프 노드의 squared_error 를 확인해보면 이전에 비해 작아진 것을 확인 가능\n",
    "# 훈련 데이터에 일치하는 모델이 만들어져서 새로운 데이터에 대해\n",
    "# 제대로 예측하지 못할 수 있음"
   ]
  },
  {
   "cell_type": "code",
   "execution_count": 60,
   "id": "d9412136",
   "metadata": {},
   "outputs": [],
   "source": [
    "# max_depth 대신에 min_samples_leaf 를 사용\n",
    "\n",
    "# 터미널(자식이 없는 노드 - leaf node)의 수가 10 이성이어야 한다는 제약\n",
    "# 이 설정을 하게 되면 각 터미널의 depth 가 일정하지 않을 수 있음\n",
    "# 대신 각 터미널이 갖는 samples 의 크기(수) 가 서로 비슷해짐\n",
    "tree_reg = DecisionTreeRegressor(min_samples_leaf = 10, random_state = 21)\n",
    "tree_reg.fit(X, y)\n",
    "\n",
    "export_graphviz(\n",
    "    tree_reg,\n",
    "    out_file = 'decision_tree.dot',\n",
    "    feature_names = ['X'],\n",
    "    class_names= 'y',\n",
    "    rounded = True,\n",
    "    filled = True\n",
    ")\n",
    "\n",
    "\n",
    "with open('decision_tree.dot') as f:\n",
    "    tree_graph = f.read()\n",
    "\n",
    "src = Source(tree_graph)\n",
    "#src"
   ]
  },
  {
   "cell_type": "markdown",
   "id": "03d0f6b4",
   "metadata": {},
   "source": [
    "### SVM 을 이용한 회귀"
   ]
  },
  {
   "cell_type": "code",
   "execution_count": 78,
   "id": "66ab6dd6",
   "metadata": {},
   "outputs": [],
   "source": [
    "# 샘플 데이터 생성\n",
    "np.random.seed(21)\n",
    "m = 100\n",
    "X = 2 * np.random.rand(m, 1)\n",
    "# ravel 은 차원을 하나 낮추는 기능을 하는 함수\n",
    "# target 은 1차원 배열이어야 해서 차원을 수정\n",
    "# flatten 이나 reshape 를 사용해도 무방\n",
    "y = (4 + 3 * X + np.random.randn(m, 1)).ravel()\n",
    "#print(y)\n",
    "\n",
    "X_train = X[:70]\n",
    "X_test = X[70:]\n",
    "y_train = y[:70]\n",
    "y_test = y[70:]\n",
    "\n"
   ]
  },
  {
   "cell_type": "code",
   "execution_count": 79,
   "id": "ed03ed2a",
   "metadata": {},
   "outputs": [
    {
     "data": {
      "text/html": [
       "<style>#sk-container-id-7 {color: black;background-color: white;}#sk-container-id-7 pre{padding: 0;}#sk-container-id-7 div.sk-toggleable {background-color: white;}#sk-container-id-7 label.sk-toggleable__label {cursor: pointer;display: block;width: 100%;margin-bottom: 0;padding: 0.3em;box-sizing: border-box;text-align: center;}#sk-container-id-7 label.sk-toggleable__label-arrow:before {content: \"▸\";float: left;margin-right: 0.25em;color: #696969;}#sk-container-id-7 label.sk-toggleable__label-arrow:hover:before {color: black;}#sk-container-id-7 div.sk-estimator:hover label.sk-toggleable__label-arrow:before {color: black;}#sk-container-id-7 div.sk-toggleable__content {max-height: 0;max-width: 0;overflow: hidden;text-align: left;background-color: #f0f8ff;}#sk-container-id-7 div.sk-toggleable__content pre {margin: 0.2em;color: black;border-radius: 0.25em;background-color: #f0f8ff;}#sk-container-id-7 input.sk-toggleable__control:checked~div.sk-toggleable__content {max-height: 200px;max-width: 100%;overflow: auto;}#sk-container-id-7 input.sk-toggleable__control:checked~label.sk-toggleable__label-arrow:before {content: \"▾\";}#sk-container-id-7 div.sk-estimator input.sk-toggleable__control:checked~label.sk-toggleable__label {background-color: #d4ebff;}#sk-container-id-7 div.sk-label input.sk-toggleable__control:checked~label.sk-toggleable__label {background-color: #d4ebff;}#sk-container-id-7 input.sk-hidden--visually {border: 0;clip: rect(1px 1px 1px 1px);clip: rect(1px, 1px, 1px, 1px);height: 1px;margin: -1px;overflow: hidden;padding: 0;position: absolute;width: 1px;}#sk-container-id-7 div.sk-estimator {font-family: monospace;background-color: #f0f8ff;border: 1px dotted black;border-radius: 0.25em;box-sizing: border-box;margin-bottom: 0.5em;}#sk-container-id-7 div.sk-estimator:hover {background-color: #d4ebff;}#sk-container-id-7 div.sk-parallel-item::after {content: \"\";width: 100%;border-bottom: 1px solid gray;flex-grow: 1;}#sk-container-id-7 div.sk-label:hover label.sk-toggleable__label {background-color: #d4ebff;}#sk-container-id-7 div.sk-serial::before {content: \"\";position: absolute;border-left: 1px solid gray;box-sizing: border-box;top: 0;bottom: 0;left: 50%;z-index: 0;}#sk-container-id-7 div.sk-serial {display: flex;flex-direction: column;align-items: center;background-color: white;padding-right: 0.2em;padding-left: 0.2em;position: relative;}#sk-container-id-7 div.sk-item {position: relative;z-index: 1;}#sk-container-id-7 div.sk-parallel {display: flex;align-items: stretch;justify-content: center;background-color: white;position: relative;}#sk-container-id-7 div.sk-item::before, #sk-container-id-7 div.sk-parallel-item::before {content: \"\";position: absolute;border-left: 1px solid gray;box-sizing: border-box;top: 0;bottom: 0;left: 50%;z-index: -1;}#sk-container-id-7 div.sk-parallel-item {display: flex;flex-direction: column;z-index: 1;position: relative;background-color: white;}#sk-container-id-7 div.sk-parallel-item:first-child::after {align-self: flex-end;width: 50%;}#sk-container-id-7 div.sk-parallel-item:last-child::after {align-self: flex-start;width: 50%;}#sk-container-id-7 div.sk-parallel-item:only-child::after {width: 0;}#sk-container-id-7 div.sk-dashed-wrapped {border: 1px dashed gray;margin: 0 0.4em 0.5em 0.4em;box-sizing: border-box;padding-bottom: 0.4em;background-color: white;}#sk-container-id-7 div.sk-label label {font-family: monospace;font-weight: bold;display: inline-block;line-height: 1.2em;}#sk-container-id-7 div.sk-label-container {text-align: center;}#sk-container-id-7 div.sk-container {/* jupyter's `normalize.less` sets `[hidden] { display: none; }` but bootstrap.min.css set `[hidden] { display: none !important; }` so we also need the `!important` here to be able to override the default hidden behavior on the sphinx rendered scikit-learn.org. See: https://github.com/scikit-learn/scikit-learn/issues/21755 */display: inline-block !important;position: relative;}#sk-container-id-7 div.sk-text-repr-fallback {display: none;}</style><div id=\"sk-container-id-7\" class=\"sk-top-container\"><div class=\"sk-text-repr-fallback\"><pre>LinearSVR(epsilon=1.0, random_state=21)</pre><b>In a Jupyter environment, please rerun this cell to show the HTML representation or trust the notebook. <br />On GitHub, the HTML representation is unable to render, please try loading this page with nbviewer.org.</b></div><div class=\"sk-container\" hidden><div class=\"sk-item\"><div class=\"sk-estimator sk-toggleable\"><input class=\"sk-toggleable__control sk-hidden--visually\" id=\"sk-estimator-id-7\" type=\"checkbox\" checked><label for=\"sk-estimator-id-7\" class=\"sk-toggleable__label sk-toggleable__label-arrow\">LinearSVR</label><div class=\"sk-toggleable__content\"><pre>LinearSVR(epsilon=1.0, random_state=21)</pre></div></div></div></div></div>"
      ],
      "text/plain": [
       "LinearSVR(epsilon=1.0, random_state=21)"
      ]
     },
     "execution_count": 79,
     "metadata": {},
     "output_type": "execute_result"
    }
   ],
   "source": [
    "from sklearn.svm import LinearSVR\n",
    "# 모델 생성\n",
    "svm_reg = LinearSVR(epsilon = 1.0, random_state = 21)\n",
    "svm_reg.fit(X_train, y_train)"
   ]
  },
  {
   "cell_type": "code",
   "execution_count": 80,
   "id": "5e7726b7",
   "metadata": {},
   "outputs": [
    {
     "name": "stdout",
     "output_type": "stream",
     "text": [
      "[ 5.1    5.556 10.808  5.141  7.803  2.587  6.649  8.601  9.     6.136\n",
      "  8.076  4.934  5.892  6.457  8.038  8.     7.496  7.522  9.641  3.917\n",
      "  3.423  9.255  4.436  7.262  9.761  4.068  7.892  3.307  7.092  8.1  ]\n",
      "[4.933 4.998 8.901 6.08  6.173 4.195 7.646 8.635 9.177 5.089 8.945 4.984\n",
      " 6.129 6.18  7.276 6.93  7.034 7.    9.378 5.39  5.168 8.704 5.724 7.886\n",
      " 9.33  4.363 8.505 4.16  6.918 6.509]\n",
      "MSE :  0.8964270860811067\n",
      "RMSE :  0.9467983344308896\n"
     ]
    }
   ],
   "source": [
    "# 예측 및 평가\n",
    "\n",
    "y_pred = svm_reg.predict(X_test)\n",
    "mse = mean_squared_error(y_test, y_pred)\n",
    "rmse = np.sqrt(mse)\n",
    "\n",
    "print(y_test)\n",
    "print(y_pred)\n",
    "print('MSE : ', mse) # 0.8964\n",
    "print('RMSE : ', rmse) # 0.9467"
   ]
  },
  {
   "cell_type": "code",
   "execution_count": 81,
   "id": "bace4b8f",
   "metadata": {},
   "outputs": [
    {
     "name": "stdout",
     "output_type": "stream",
     "text": [
      "[ 5.1    5.556 10.808  5.141  7.803  2.587  6.649  8.601  9.     6.136\n",
      "  8.076  4.934  5.892  6.457  8.038  8.     7.496  7.522  9.641  3.917\n",
      "  3.423  9.255  4.436  7.262  9.761  4.068  7.892  3.307  7.092  8.1  ]\n",
      "[4.6   4.673 9.02  5.878 5.981 3.779 7.622 8.724 9.327 4.774 9.068 4.657\n",
      " 5.933 5.989 7.21  6.824 6.941 6.903 9.552 5.11  4.862 8.801 5.481 7.889\n",
      " 9.498 3.965 8.579 3.739 6.811 6.356]\n",
      "MSE :  0.8507560754669804\n",
      "RMSE :  0.9223643940802249\n"
     ]
    }
   ],
   "source": [
    "# margin(epsilon) 변화 시킴 - RMSE 감소\n",
    "\n",
    "svm_reg = LinearSVR(epsilon = 2.0, random_state = 21)\n",
    "svm_reg.fit(X_train, y_train)\n",
    "\n",
    "y_pred = svm_reg.predict(X_test)\n",
    "mse = mean_squared_error(y_test, y_pred)\n",
    "rmse = np.sqrt(mse)\n",
    "\n",
    "print(y_test)\n",
    "print(y_pred)\n",
    "print('MSE : ', mse)\n",
    "print('RMSE : ', rmse)"
   ]
  },
  {
   "cell_type": "code",
   "execution_count": 82,
   "id": "b65d868d",
   "metadata": {},
   "outputs": [],
   "source": [
    "# 비선형 데이터 생성\n",
    "m = 100\n",
    "X = 2 * np.random.rand(m, 1)\n",
    "y = (3 + 2 * X + 0.5 * X ** 2 + np.random.randn(m, 1) / 10).ravel()\n",
    "\n",
    "X_train = X[:70]\n",
    "X_test = X[70:]\n",
    "y_train = y[:70]\n",
    "y_test = y[70:]"
   ]
  },
  {
   "cell_type": "code",
   "execution_count": 86,
   "id": "b759afe6",
   "metadata": {},
   "outputs": [
    {
     "name": "stdout",
     "output_type": "stream",
     "text": [
      "MSE :  1.1106523191842366\n",
      "RMSE :  1.053874906800725\n"
     ]
    },
    {
     "data": {
      "image/png": "[encoded data removed]",
      "text/plain": [
       "<Figure size 640x480 with 1 Axes>"
      ]
     },
     "metadata": {},
     "output_type": "display_data"
    }
   ],
   "source": [
    "# 비선형 데이터에 선형 SVM 적용\n",
    "\n",
    "svm_reg = LinearSVR(epsilon = 1.5, random_state = 21)\n",
    "svm_reg.fit(X_train, y_train)\n",
    "\n",
    "y_pred = svm_reg.predict(X_test)\n",
    "mse = mean_squared_error(y_test, y_pred)\n",
    "rmse = np.sqrt(mse)\n",
    "\n",
    "#print(y_test)\n",
    "#print(y_pred)\n",
    "print('MSE : ', mse) # 1.1106\n",
    "print('RMSE : ', rmse) # 1.0538\n",
    "# 선형 데이터에 비해 MSE, RMSE 값이 매우 커짐\n",
    "\n",
    "plt.title('비선형 데이터에 선형 SVM 적용')\n",
    "plt.plot(y_test, 'b--', linewidth = 2, label = 'test set')\n",
    "plt.plot(y_pred, 'r--', linewidth = 2, label = 'predict set')\n",
    "plt.legend()\n",
    "plt.show()"
   ]
  },
  {
   "cell_type": "code",
   "execution_count": 90,
   "id": "affb3d2f",
   "metadata": {},
   "outputs": [
    {
     "name": "stdout",
     "output_type": "stream",
     "text": [
      "MSE :  0.09928952708312153\n",
      "RMSE :  0.3151024072950277\n"
     ]
    },
    {
     "data": {
      "image/png": "[encoded data removed]",
      "text/plain": [
       "<Figure size 640x480 with 1 Axes>"
      ]
     },
     "metadata": {},
     "output_type": "display_data"
    }
   ],
   "source": [
    "# 비선형 SVM 적용\n",
    "from sklearn.svm import SVR\n",
    "\n",
    "# kernel 과 degree(차수) 지정 가능\n",
    "# 비선형 SVM 에서는 epsilon 값을 작게 지정해야 함\n",
    "# 샘플 데이터를 2차 방정식을 사용해서 만들었기 때문에 degree 는 2가 최적\n",
    "# 샘플 데이터를 알지 못하는 경우 degree 는 하이퍼 파라미터 튜닝을 해줘야 함\n",
    "svm_reg = SVR(kernel = 'poly', degree = 2, epsilon = 0.2)\n",
    "svm_reg.fit(X_train, y_train)\n",
    "\n",
    "y_pred = svm_reg.predict(X_test)\n",
    "mse = mean_squared_error(y_test, y_pred)\n",
    "rmse = np.sqrt(mse)\n",
    "\n",
    "#print(y_test)\n",
    "#print(y_pred)\n",
    "print('MSE : ', mse) # 1.1106\n",
    "print('RMSE : ', rmse) # 1.0538\n",
    "# 선형 데이터에 비해 MSE, RMSE 값이 매우 커짐\n",
    "\n",
    "plt.title('비선형 데이터에 비선형 SVM 적용')\n",
    "plt.plot(y_test, 'b--', linewidth = 2, label = 'test set')\n",
    "plt.plot(y_pred, 'r--', linewidth = 2, label = 'predict set')\n",
    "plt.legend()\n",
    "plt.show()\n",
    "# 비선형 데이터에 비선형 SVM을 적용해서 MSE, RMSE 값이 많이 작아짐"
   ]
  },
  {
   "cell_type": "code",
   "execution_count": null,
   "id": "5fbb372e",
   "metadata": {},
   "outputs": [],
   "source": []
  },
  {
   "cell_type": "code",
   "execution_count": null,
   "id": "3c710b2e",
   "metadata": {},
   "outputs": [],
   "source": []
  },
  {
   "cell_type": "code",
   "execution_count": null,
   "id": "82dd036f",
   "metadata": {},
   "outputs": [],
   "source": []
  },
  {
   "cell_type": "code",
   "execution_count": null,
   "id": "a035ce3c",
   "metadata": {},
   "outputs": [],
   "source": []
  },
  {
   "cell_type": "code",
   "execution_count": null,
   "id": "a8131368",
   "metadata": {},
   "outputs": [],
   "source": []
  }
 ],
 "metadata": {
  "kernelspec": {
   "display_name": "Python 3 (ipykernel)",
   "language": "python",
   "name": "python3"
  },
  "language_info": {
   "codemirror_mode": {
    "name": "ipython",
    "version": 3
   },
   "file_extension": ".py",
   "mimetype": "text/x-python",
   "name": "python",
   "nbconvert_exporter": "python",
   "pygments_lexer": "ipython3",
   "version": "3.10.9"
  }
 },
 "nbformat": 4,
 "nbformat_minor": 5
}
